{
  "nbformat": 4,
  "nbformat_minor": 0,
  "metadata": {
    "colab": {
      "name": "Fake_news_detection.ipynb",
      "provenance": [],
      "collapsed_sections": [],
      "mount_file_id": "1lgCwy7kKUE69HHJUTWMeECg1gumCFseS",
      "authorship_tag": "ABX9TyO74uSSYXAXLOnmBnCoRlFK",
      "include_colab_link": true
    },
    "kernelspec": {
      "display_name": "Python 3",
      "name": "python3"
    },
    "language_info": {
      "name": "python"
    }
  },
  "cells": [
    {
      "cell_type": "markdown",
      "metadata": {
        "id": "view-in-github",
        "colab_type": "text"
      },
      "source": [
        "<a href=\"https://colab.research.google.com/github/ANKUSHSINGH-PAT/-Hostel-Management-System-/blob/main/Fake_news_detection.ipynb\" target=\"_parent\"><img src=\"https://colab.research.google.com/assets/colab-badge.svg\" alt=\"Open In Colab\"/></a>"
      ]
    },
    {
      "cell_type": "markdown",
      "metadata": {
        "id": "AdJB8VAWJBzR"
      },
      "source": [
        "**Importing required library**\n",
        "\n",
        "\n"
      ]
    },
    {
      "cell_type": "code",
      "metadata": {
        "id": "Ga6UyKOkWQxF"
      },
      "source": [
        "import pandas as pd\n",
        "import numpy as np\n",
        "from sklearn.model_selection import train_test_split\n",
        "from sklearn.metrics import classification_report\n",
        "import re\n",
        "import string"
      ],
      "execution_count": 1,
      "outputs": []
    },
    {
      "cell_type": "markdown",
      "metadata": {
        "id": "mLzYpCvtJA8C"
      },
      "source": [
        "**Importing file from drive**"
      ]
    },
    {
      "cell_type": "code",
      "metadata": {
        "colab": {
          "base_uri": "https://localhost:8080/"
        },
        "id": "rzCbGWkOgsAY",
        "outputId": "da9934a0-2784-4da4-a26c-51c4b809ccc2"
      },
      "source": [
        "from google.colab import drive\n",
        "drive.mount('/content/drive')"
      ],
      "execution_count": 4,
      "outputs": [
        {
          "output_type": "stream",
          "name": "stdout",
          "text": [
            "Drive already mounted at /content/drive; to attempt to forcibly remount, call drive.mount(\"/content/drive\", force_remount=True).\n"
          ]
        }
      ]
    },
    {
      "cell_type": "code",
      "metadata": {
        "id": "N5NdNZtbhjgu"
      },
      "source": [
        "path_fake='/content/drive/MyDrive/Colab Notebooks/Fake.csv'          # Inserting fake and real dataset\n",
        "path_true='/content/drive/MyDrive/Colab Notebooks/True.csv'\n",
        "df_fake=pd.read_csv(path_fake)\n",
        "df_true=pd.read_csv(path_true)"
      ],
      "execution_count": null,
      "outputs": []
    },
    {
      "cell_type": "code",
      "metadata": {
        "colab": {
          "base_uri": "https://localhost:8080/",
          "height": 206
        },
        "id": "hq6hZ4vlJ2Gz",
        "outputId": "33b543c3-d39c-4f4b-f2ab-c95a808d6b9d"
      },
      "source": [
        "df_true.tail(5)"
      ],
      "execution_count": 58,
      "outputs": [
        {
          "output_type": "execute_result",
          "data": {
            "text/html": [
              "<div>\n",
              "<style scoped>\n",
              "    .dataframe tbody tr th:only-of-type {\n",
              "        vertical-align: middle;\n",
              "    }\n",
              "\n",
              "    .dataframe tbody tr th {\n",
              "        vertical-align: top;\n",
              "    }\n",
              "\n",
              "    .dataframe thead th {\n",
              "        text-align: right;\n",
              "    }\n",
              "</style>\n",
              "<table border=\"1\" class=\"dataframe\">\n",
              "  <thead>\n",
              "    <tr style=\"text-align: right;\">\n",
              "      <th></th>\n",
              "      <th>title</th>\n",
              "      <th>text</th>\n",
              "      <th>subject</th>\n",
              "      <th>date</th>\n",
              "      <th>class</th>\n",
              "    </tr>\n",
              "  </thead>\n",
              "  <tbody>\n",
              "    <tr>\n",
              "      <th>21402</th>\n",
              "      <td>Exclusive: Trump's Afghan decision may increas...</td>\n",
              "      <td>ON BOARD A U.S. MILITARY AIRCRAFT (Reuters) - ...</td>\n",
              "      <td>worldnews</td>\n",
              "      <td>August 22, 2017</td>\n",
              "      <td>1</td>\n",
              "    </tr>\n",
              "    <tr>\n",
              "      <th>21403</th>\n",
              "      <td>U.S. puts more pressure on Pakistan to help wi...</td>\n",
              "      <td>WASHINGTON (Reuters) - The United States sugge...</td>\n",
              "      <td>worldnews</td>\n",
              "      <td>August 21, 2017</td>\n",
              "      <td>1</td>\n",
              "    </tr>\n",
              "    <tr>\n",
              "      <th>21404</th>\n",
              "      <td>Exclusive: U.S. to withhold up to $290 million...</td>\n",
              "      <td>WASHINGTON (Reuters) - The United States has d...</td>\n",
              "      <td>worldnews</td>\n",
              "      <td>August 22, 2017</td>\n",
              "      <td>1</td>\n",
              "    </tr>\n",
              "    <tr>\n",
              "      <th>21405</th>\n",
              "      <td>Trump talks tough on Pakistan's 'terrorist' ha...</td>\n",
              "      <td>ISLAMABAD (Reuters) - Outlining a new strategy...</td>\n",
              "      <td>worldnews</td>\n",
              "      <td>August 22, 2017</td>\n",
              "      <td>1</td>\n",
              "    </tr>\n",
              "    <tr>\n",
              "      <th>21406</th>\n",
              "      <td>U.S., North Korea clash at U.N. forum over nuc...</td>\n",
              "      <td>GENEVA (Reuters) - North Korea and the United ...</td>\n",
              "      <td>worldnews</td>\n",
              "      <td>August 22, 2017</td>\n",
              "      <td>1</td>\n",
              "    </tr>\n",
              "  </tbody>\n",
              "</table>\n",
              "</div>"
            ],
            "text/plain": [
              "                                                   title  ... class\n",
              "21402  Exclusive: Trump's Afghan decision may increas...  ...     1\n",
              "21403  U.S. puts more pressure on Pakistan to help wi...  ...     1\n",
              "21404  Exclusive: U.S. to withhold up to $290 million...  ...     1\n",
              "21405  Trump talks tough on Pakistan's 'terrorist' ha...  ...     1\n",
              "21406  U.S., North Korea clash at U.N. forum over nuc...  ...     1\n",
              "\n",
              "[5 rows x 5 columns]"
            ]
          },
          "metadata": {},
          "execution_count": 58
        }
      ]
    },
    {
      "cell_type": "code",
      "metadata": {
        "colab": {
          "base_uri": "https://localhost:8080/",
          "height": 206
        },
        "id": "lMMWd5KtJ7cg",
        "outputId": "f8807fcb-44b6-492d-e350-7ac74b700c40"
      },
      "source": [
        "df_fake.tail(5)"
      ],
      "execution_count": 59,
      "outputs": [
        {
          "output_type": "execute_result",
          "data": {
            "text/html": [
              "<div>\n",
              "<style scoped>\n",
              "    .dataframe tbody tr th:only-of-type {\n",
              "        vertical-align: middle;\n",
              "    }\n",
              "\n",
              "    .dataframe tbody tr th {\n",
              "        vertical-align: top;\n",
              "    }\n",
              "\n",
              "    .dataframe thead th {\n",
              "        text-align: right;\n",
              "    }\n",
              "</style>\n",
              "<table border=\"1\" class=\"dataframe\">\n",
              "  <thead>\n",
              "    <tr style=\"text-align: right;\">\n",
              "      <th></th>\n",
              "      <th>title</th>\n",
              "      <th>text</th>\n",
              "      <th>subject</th>\n",
              "      <th>date</th>\n",
              "      <th>class</th>\n",
              "    </tr>\n",
              "  </thead>\n",
              "  <tbody>\n",
              "    <tr>\n",
              "      <th>23466</th>\n",
              "      <td>Boston Brakes? How to Hack a New Car With Your...</td>\n",
              "      <td>21st Century Wire says For those who still ref...</td>\n",
              "      <td>Middle-east</td>\n",
              "      <td>January 22, 2016</td>\n",
              "      <td>0</td>\n",
              "    </tr>\n",
              "    <tr>\n",
              "      <th>23467</th>\n",
              "      <td>Oregon Governor Says Feds ‘Must Act’ Against P...</td>\n",
              "      <td>21st Century Wire says So far, after nearly 20...</td>\n",
              "      <td>Middle-east</td>\n",
              "      <td>January 21, 2016</td>\n",
              "      <td>0</td>\n",
              "    </tr>\n",
              "    <tr>\n",
              "      <th>23468</th>\n",
              "      <td>Ron Paul on Burns Oregon Standoff and Jury Nul...</td>\n",
              "      <td>21st Century Wire says If you ve been followin...</td>\n",
              "      <td>Middle-east</td>\n",
              "      <td>January 21, 2016</td>\n",
              "      <td>0</td>\n",
              "    </tr>\n",
              "    <tr>\n",
              "      <th>23469</th>\n",
              "      <td>BOILER ROOM: As the Frogs Slowly Boil – EP #40</td>\n",
              "      <td>Tune in to the Alternate Current Radio Network...</td>\n",
              "      <td>Middle-east</td>\n",
              "      <td>January 20, 2016</td>\n",
              "      <td>0</td>\n",
              "    </tr>\n",
              "    <tr>\n",
              "      <th>23470</th>\n",
              "      <td>Arizona Rancher Protesting in Oregon is Target...</td>\n",
              "      <td>RTOne of the most visible members of the armed...</td>\n",
              "      <td>Middle-east</td>\n",
              "      <td>January 20, 2016</td>\n",
              "      <td>0</td>\n",
              "    </tr>\n",
              "  </tbody>\n",
              "</table>\n",
              "</div>"
            ],
            "text/plain": [
              "                                                   title  ... class\n",
              "23466  Boston Brakes? How to Hack a New Car With Your...  ...     0\n",
              "23467  Oregon Governor Says Feds ‘Must Act’ Against P...  ...     0\n",
              "23468  Ron Paul on Burns Oregon Standoff and Jury Nul...  ...     0\n",
              "23469     BOILER ROOM: As the Frogs Slowly Boil – EP #40  ...     0\n",
              "23470  Arizona Rancher Protesting in Oregon is Target...  ...     0\n",
              "\n",
              "[5 rows x 5 columns]"
            ]
          },
          "metadata": {},
          "execution_count": 59
        }
      ]
    },
    {
      "cell_type": "markdown",
      "metadata": {
        "id": "LeFWsIlzJjbx"
      },
      "source": [
        "**Inserting a column called \"class\" for fake and real news dataset to categories fake and true news.**"
      ]
    },
    {
      "cell_type": "code",
      "metadata": {
        "id": "WEBlY3xVDVVO"
      },
      "source": [
        "df_fake[\"class\"] = 0\n",
        "df_true[\"class\"] = 1"
      ],
      "execution_count": 6,
      "outputs": []
    },
    {
      "cell_type": "code",
      "metadata": {
        "colab": {
          "base_uri": "https://localhost:8080/"
        },
        "id": "yXAIJFSc5tNN",
        "outputId": "d3034387-e652-4540-997e-2e9b70a03f89"
      },
      "source": [
        "df_fake.shape,df_true.shape"
      ],
      "execution_count": 7,
      "outputs": [
        {
          "output_type": "execute_result",
          "data": {
            "text/plain": [
              "((23481, 5), (21417, 5))"
            ]
          },
          "metadata": {},
          "execution_count": 7
        }
      ]
    },
    {
      "cell_type": "markdown",
      "metadata": {
        "id": "4glyMBbLKivw"
      },
      "source": [
        "**Removing last 10 rows from both the dataset, for manual testing**"
      ]
    },
    {
      "cell_type": "code",
      "metadata": {
        "id": "Grn4b4YW6NJu"
      },
      "source": [
        "df_fake_manual_testing=df_fake.tail(10)\n",
        "for i in range(23480,23470,-1):\n",
        "  df_fake.drop([i], axis=0, inplace=True)  #delete the records row_wise\n",
        "df_true_manual_testing=df_true.tail(10)\n",
        "for i in range(21416,21406,-1):\n",
        "  df_true.drop([i], axis=0, inplace=True)  #delete the records row_wise\n",
        "\n"
      ],
      "execution_count": 8,
      "outputs": []
    },
    {
      "cell_type": "markdown",
      "metadata": {
        "id": "KBkwYNk-K9LH"
      },
      "source": [
        "**Merging the manual testing dataframe in single dataset and save it in a csv file**"
      ]
    },
    {
      "cell_type": "code",
      "metadata": {
        "id": "DIZJCN-14fzV"
      },
      "source": [
        "df_manual_testing=pd.concat([df_fake_manual_testing,df_true_manual_testing],axis=0)\n",
        "df_manual_testing.to_csv(\"manual_testing\")"
      ],
      "execution_count": 9,
      "outputs": []
    },
    {
      "cell_type": "markdown",
      "metadata": {
        "id": "_BNy26skLL3_"
      },
      "source": [
        "**Merging the main fake and true dataframe and \"title\", \"subject\" and \"date\" columns is not required for detecting the fake news, so I am going to drop the columns.**"
      ]
    },
    {
      "cell_type": "code",
      "metadata": {
        "colab": {
          "base_uri": "https://localhost:8080/",
          "height": 363
        },
        "id": "TqukgHSm6Hfs",
        "outputId": "68187beb-fa86-4854-89bd-93c154f8a3e3"
      },
      "source": [
        "df_merge=pd.concat([df_fake,df_true],axis=0)\n",
        "df=df_merge.drop([\"title\",\"subject\",\"date\"],axis=1)\n",
        "df.head(10)"
      ],
      "execution_count": 10,
      "outputs": [
        {
          "output_type": "execute_result",
          "data": {
            "text/html": [
              "<div>\n",
              "<style scoped>\n",
              "    .dataframe tbody tr th:only-of-type {\n",
              "        vertical-align: middle;\n",
              "    }\n",
              "\n",
              "    .dataframe tbody tr th {\n",
              "        vertical-align: top;\n",
              "    }\n",
              "\n",
              "    .dataframe thead th {\n",
              "        text-align: right;\n",
              "    }\n",
              "</style>\n",
              "<table border=\"1\" class=\"dataframe\">\n",
              "  <thead>\n",
              "    <tr style=\"text-align: right;\">\n",
              "      <th></th>\n",
              "      <th>text</th>\n",
              "      <th>class</th>\n",
              "    </tr>\n",
              "  </thead>\n",
              "  <tbody>\n",
              "    <tr>\n",
              "      <th>0</th>\n",
              "      <td>Donald Trump just couldn t wish all Americans ...</td>\n",
              "      <td>0</td>\n",
              "    </tr>\n",
              "    <tr>\n",
              "      <th>1</th>\n",
              "      <td>House Intelligence Committee Chairman Devin Nu...</td>\n",
              "      <td>0</td>\n",
              "    </tr>\n",
              "    <tr>\n",
              "      <th>2</th>\n",
              "      <td>On Friday, it was revealed that former Milwauk...</td>\n",
              "      <td>0</td>\n",
              "    </tr>\n",
              "    <tr>\n",
              "      <th>3</th>\n",
              "      <td>On Christmas day, Donald Trump announced that ...</td>\n",
              "      <td>0</td>\n",
              "    </tr>\n",
              "    <tr>\n",
              "      <th>4</th>\n",
              "      <td>Pope Francis used his annual Christmas Day mes...</td>\n",
              "      <td>0</td>\n",
              "    </tr>\n",
              "    <tr>\n",
              "      <th>5</th>\n",
              "      <td>The number of cases of cops brutalizing and ki...</td>\n",
              "      <td>0</td>\n",
              "    </tr>\n",
              "    <tr>\n",
              "      <th>6</th>\n",
              "      <td>Donald Trump spent a good portion of his day a...</td>\n",
              "      <td>0</td>\n",
              "    </tr>\n",
              "    <tr>\n",
              "      <th>7</th>\n",
              "      <td>In the wake of yet another court decision that...</td>\n",
              "      <td>0</td>\n",
              "    </tr>\n",
              "    <tr>\n",
              "      <th>8</th>\n",
              "      <td>Many people have raised the alarm regarding th...</td>\n",
              "      <td>0</td>\n",
              "    </tr>\n",
              "    <tr>\n",
              "      <th>9</th>\n",
              "      <td>Just when you might have thought we d get a br...</td>\n",
              "      <td>0</td>\n",
              "    </tr>\n",
              "  </tbody>\n",
              "</table>\n",
              "</div>"
            ],
            "text/plain": [
              "                                                text  class\n",
              "0  Donald Trump just couldn t wish all Americans ...      0\n",
              "1  House Intelligence Committee Chairman Devin Nu...      0\n",
              "2  On Friday, it was revealed that former Milwauk...      0\n",
              "3  On Christmas day, Donald Trump announced that ...      0\n",
              "4  Pope Francis used his annual Christmas Day mes...      0\n",
              "5  The number of cases of cops brutalizing and ki...      0\n",
              "6  Donald Trump spent a good portion of his day a...      0\n",
              "7  In the wake of yet another court decision that...      0\n",
              "8  Many people have raised the alarm regarding th...      0\n",
              "9  Just when you might have thought we d get a br...      0"
            ]
          },
          "metadata": {},
          "execution_count": 10
        }
      ]
    },
    {
      "cell_type": "markdown",
      "metadata": {
        "id": "1CZ0X51WLoF3"
      },
      "source": [
        "**Randomly shuffling the dataframe**"
      ]
    },
    {
      "cell_type": "code",
      "metadata": {
        "colab": {
          "base_uri": "https://localhost:8080/",
          "height": 363
        },
        "id": "mYpKiAZS8fVi",
        "outputId": "46125483-f020-4043-b8c6-77c653a92831"
      },
      "source": [
        "df = df.sample(frac = 1)\n",
        "df.tail(10)"
      ],
      "execution_count": 23,
      "outputs": [
        {
          "output_type": "execute_result",
          "data": {
            "text/html": [
              "<div>\n",
              "<style scoped>\n",
              "    .dataframe tbody tr th:only-of-type {\n",
              "        vertical-align: middle;\n",
              "    }\n",
              "\n",
              "    .dataframe tbody tr th {\n",
              "        vertical-align: top;\n",
              "    }\n",
              "\n",
              "    .dataframe thead th {\n",
              "        text-align: right;\n",
              "    }\n",
              "</style>\n",
              "<table border=\"1\" class=\"dataframe\">\n",
              "  <thead>\n",
              "    <tr style=\"text-align: right;\">\n",
              "      <th></th>\n",
              "      <th>text</th>\n",
              "      <th>class</th>\n",
              "    </tr>\n",
              "  </thead>\n",
              "  <tbody>\n",
              "    <tr>\n",
              "      <th>6081</th>\n",
              "      <td>ken ham is a right wing  young earth creationi...</td>\n",
              "      <td>0</td>\n",
              "    </tr>\n",
              "    <tr>\n",
              "      <th>975</th>\n",
              "      <td>washington  reuters    the investigation into ...</td>\n",
              "      <td>1</td>\n",
              "    </tr>\n",
              "    <tr>\n",
              "      <th>15709</th>\n",
              "      <td>beirut  reuters    lebanese president michel a...</td>\n",
              "      <td>1</td>\n",
              "    </tr>\n",
              "    <tr>\n",
              "      <th>20992</th>\n",
              "      <td>only months ago  obama s attorney general  lor...</td>\n",
              "      <td>0</td>\n",
              "    </tr>\n",
              "    <tr>\n",
              "      <th>2439</th>\n",
              "      <td>reuters    transcanada corp  canada s no  pip...</td>\n",
              "      <td>1</td>\n",
              "    </tr>\n",
              "    <tr>\n",
              "      <th>16086</th>\n",
              "      <td>deep state is trying to take down a president ...</td>\n",
              "      <td>0</td>\n",
              "    </tr>\n",
              "    <tr>\n",
              "      <th>9882</th>\n",
              "      <td>washington  reuters    the senate on tuesday o...</td>\n",
              "      <td>1</td>\n",
              "    </tr>\n",
              "    <tr>\n",
              "      <th>16798</th>\n",
              "      <td>tokyo  reuters    a typhoon roared towards jap...</td>\n",
              "      <td>1</td>\n",
              "    </tr>\n",
              "    <tr>\n",
              "      <th>17804</th>\n",
              "      <td>a spokesperson for the clinton foundation clai...</td>\n",
              "      <td>0</td>\n",
              "    </tr>\n",
              "    <tr>\n",
              "      <th>21456</th>\n",
              "      <td>andrew breitbart got under the skin of the lef...</td>\n",
              "      <td>0</td>\n",
              "    </tr>\n",
              "  </tbody>\n",
              "</table>\n",
              "</div>"
            ],
            "text/plain": [
              "                                                    text  class\n",
              "6081   ken ham is a right wing  young earth creationi...      0\n",
              "975    washington  reuters    the investigation into ...      1\n",
              "15709  beirut  reuters    lebanese president michel a...      1\n",
              "20992  only months ago  obama s attorney general  lor...      0\n",
              "2439    reuters    transcanada corp  canada s no  pip...      1\n",
              "16086  deep state is trying to take down a president ...      0\n",
              "9882   washington  reuters    the senate on tuesday o...      1\n",
              "16798  tokyo  reuters    a typhoon roared towards jap...      1\n",
              "17804  a spokesperson for the clinton foundation clai...      0\n",
              "21456  andrew breitbart got under the skin of the lef...      0"
            ]
          },
          "metadata": {},
          "execution_count": 23
        }
      ]
    },
    {
      "cell_type": "code",
      "metadata": {
        "colab": {
          "base_uri": "https://localhost:8080/"
        },
        "id": "DIgHZdLF8vmk",
        "outputId": "06830fef-533e-4e2b-b7be-28524a4248a7"
      },
      "source": [
        "df.isnull().sum()"
      ],
      "execution_count": 22,
      "outputs": [
        {
          "output_type": "execute_result",
          "data": {
            "text/plain": [
              "text     0\n",
              "class    0\n",
              "dtype: int64"
            ]
          },
          "metadata": {},
          "execution_count": 22
        }
      ]
    },
    {
      "cell_type": "markdown",
      "metadata": {
        "id": "rAhp9qyxLvgW"
      },
      "source": [
        "**Creating a function to convert the text in lowercase, remove the extra space, special chr., ulr and links.**"
      ]
    },
    {
      "cell_type": "code",
      "metadata": {
        "id": "Ixd9u79781d-"
      },
      "source": [
        "def word_drop(text):                                   \n",
        "  text = text.lower()\n",
        "  text = re.sub('\\\\[.*?\\\\]', '', text)\n",
        "  text = re.sub(\"\\\\W\",\" \", text)\n",
        "  text = re.sub('https?://\\\\S+|www\\\\.\\\\S+', '', text)\n",
        "  text = re.sub('<.*?>+', '', text)\n",
        "  text = re.sub('[%s]' % re.escape(string.punctuation), '', text)\n",
        "  text = re.sub('\\\\n', '', text)\n",
        "  text = re.sub('\\\\w*\\\\d\\\\w*', '', text)\n",
        "  return text"
      ],
      "execution_count": 21,
      "outputs": []
    },
    {
      "cell_type": "code",
      "metadata": {
        "colab": {
          "base_uri": "https://localhost:8080/",
          "height": 363
        },
        "id": "MHiOqRmwBPCX",
        "outputId": "548dd9dc-f4ee-4135-8594-d359b358dd48"
      },
      "source": [
        "df[\"text\"]=df[\"text\"].apply(word_drop)\n",
        "df.head(10)"
      ],
      "execution_count": 12,
      "outputs": [
        {
          "output_type": "execute_result",
          "data": {
            "text/html": [
              "<div>\n",
              "<style scoped>\n",
              "    .dataframe tbody tr th:only-of-type {\n",
              "        vertical-align: middle;\n",
              "    }\n",
              "\n",
              "    .dataframe tbody tr th {\n",
              "        vertical-align: top;\n",
              "    }\n",
              "\n",
              "    .dataframe thead th {\n",
              "        text-align: right;\n",
              "    }\n",
              "</style>\n",
              "<table border=\"1\" class=\"dataframe\">\n",
              "  <thead>\n",
              "    <tr style=\"text-align: right;\">\n",
              "      <th></th>\n",
              "      <th>text</th>\n",
              "      <th>class</th>\n",
              "    </tr>\n",
              "  </thead>\n",
              "  <tbody>\n",
              "    <tr>\n",
              "      <th>0</th>\n",
              "      <td>donald trump just couldn t wish all americans ...</td>\n",
              "      <td>0</td>\n",
              "    </tr>\n",
              "    <tr>\n",
              "      <th>1</th>\n",
              "      <td>house intelligence committee chairman devin nu...</td>\n",
              "      <td>0</td>\n",
              "    </tr>\n",
              "    <tr>\n",
              "      <th>2</th>\n",
              "      <td>on friday  it was revealed that former milwauk...</td>\n",
              "      <td>0</td>\n",
              "    </tr>\n",
              "    <tr>\n",
              "      <th>3</th>\n",
              "      <td>on christmas day  donald trump announced that ...</td>\n",
              "      <td>0</td>\n",
              "    </tr>\n",
              "    <tr>\n",
              "      <th>4</th>\n",
              "      <td>pope francis used his annual christmas day mes...</td>\n",
              "      <td>0</td>\n",
              "    </tr>\n",
              "    <tr>\n",
              "      <th>5</th>\n",
              "      <td>the number of cases of cops brutalizing and ki...</td>\n",
              "      <td>0</td>\n",
              "    </tr>\n",
              "    <tr>\n",
              "      <th>6</th>\n",
              "      <td>donald trump spent a good portion of his day a...</td>\n",
              "      <td>0</td>\n",
              "    </tr>\n",
              "    <tr>\n",
              "      <th>7</th>\n",
              "      <td>in the wake of yet another court decision that...</td>\n",
              "      <td>0</td>\n",
              "    </tr>\n",
              "    <tr>\n",
              "      <th>8</th>\n",
              "      <td>many people have raised the alarm regarding th...</td>\n",
              "      <td>0</td>\n",
              "    </tr>\n",
              "    <tr>\n",
              "      <th>9</th>\n",
              "      <td>just when you might have thought we d get a br...</td>\n",
              "      <td>0</td>\n",
              "    </tr>\n",
              "  </tbody>\n",
              "</table>\n",
              "</div>"
            ],
            "text/plain": [
              "                                                text  class\n",
              "0  donald trump just couldn t wish all americans ...      0\n",
              "1  house intelligence committee chairman devin nu...      0\n",
              "2  on friday  it was revealed that former milwauk...      0\n",
              "3  on christmas day  donald trump announced that ...      0\n",
              "4  pope francis used his annual christmas day mes...      0\n",
              "5  the number of cases of cops brutalizing and ki...      0\n",
              "6  donald trump spent a good portion of his day a...      0\n",
              "7  in the wake of yet another court decision that...      0\n",
              "8  many people have raised the alarm regarding th...      0\n",
              "9  just when you might have thought we d get a br...      0"
            ]
          },
          "metadata": {},
          "execution_count": 12
        }
      ]
    },
    {
      "cell_type": "markdown",
      "metadata": {
        "id": "DcEq89GeMO1O"
      },
      "source": [
        "**Defining dependent and independent variable as x and y**"
      ]
    },
    {
      "cell_type": "code",
      "metadata": {
        "id": "T1wj2I45HXSe"
      },
      "source": [
        "x=df[\"text\"]\n",
        "y=df[\"class\"]"
      ],
      "execution_count": 13,
      "outputs": []
    },
    {
      "cell_type": "markdown",
      "metadata": {
        "id": "aJ4TM9UZMZ7K"
      },
      "source": [
        "**Splitting the dataset into training set and testing set.**"
      ]
    },
    {
      "cell_type": "code",
      "metadata": {
        "id": "fqNMKl7Chffl"
      },
      "source": [
        "x_test,x_train,y_test,y_train=train_test_split(x,y,test_size=.25)   "
      ],
      "execution_count": 18,
      "outputs": []
    },
    {
      "cell_type": "markdown",
      "metadata": {
        "id": "KHLK9tItMgEH"
      },
      "source": [
        "**Convert text to vectors**"
      ]
    },
    {
      "cell_type": "code",
      "metadata": {
        "id": "CJ_VPgz_iatI"
      },
      "source": [
        "from sklearn.feature_extraction.text import TfidfVectorizer         \n"
      ],
      "execution_count": 19,
      "outputs": []
    },
    {
      "cell_type": "code",
      "metadata": {
        "id": "mhej4_NcjzrK"
      },
      "source": [
        "vectorization= TfidfVectorizer()\n",
        "xv_train=vectorization.fit_transform(x_train)\n",
        "xv_test=vectorization.transform(x_test)"
      ],
      "execution_count": 20,
      "outputs": []
    },
    {
      "cell_type": "markdown",
      "metadata": {
        "id": "9kefKwYLlzkQ"
      },
      "source": [
        "**Implementation Of Logistic Regression**"
      ]
    },
    {
      "cell_type": "code",
      "metadata": {
        "id": "sIytcV0dl7sK"
      },
      "source": [
        "from sklearn.linear_model import LogisticRegression"
      ],
      "execution_count": 24,
      "outputs": []
    },
    {
      "cell_type": "code",
      "metadata": {
        "colab": {
          "base_uri": "https://localhost:8080/"
        },
        "id": "_b_568vcqJjL",
        "outputId": "14bb5279-2a4f-4e72-81b5-78a99f020c22"
      },
      "source": [
        "LR=LogisticRegression()\n",
        "LR.fit(xv_train,y_train)"
      ],
      "execution_count": 25,
      "outputs": [
        {
          "output_type": "execute_result",
          "data": {
            "text/plain": [
              "LogisticRegression()"
            ]
          },
          "metadata": {},
          "execution_count": 25
        }
      ]
    },
    {
      "cell_type": "code",
      "metadata": {
        "colab": {
          "base_uri": "https://localhost:8080/"
        },
        "id": "MXtqDU0rq2Iv",
        "outputId": "91e829ef-2d36-426e-ecc9-1964a3ac35fc"
      },
      "source": [
        "LR.score(xv_test,y_test)"
      ],
      "execution_count": 26,
      "outputs": [
        {
          "output_type": "execute_result",
          "data": {
            "text/plain": [
              "0.978846039574544"
            ]
          },
          "metadata": {},
          "execution_count": 26
        }
      ]
    },
    {
      "cell_type": "code",
      "metadata": {
        "id": "41Qm7LiKsEee"
      },
      "source": [
        "predict_LR=LR.predict(xv_test)"
      ],
      "execution_count": 27,
      "outputs": []
    },
    {
      "cell_type": "code",
      "metadata": {
        "colab": {
          "base_uri": "https://localhost:8080/"
        },
        "id": "EMy1ZAVEs0Df",
        "outputId": "5c7d1c7e-0473-405d-b07f-14a23168ae7c"
      },
      "source": [
        "print(classification_report(y_test,predict_LR))"
      ],
      "execution_count": 28,
      "outputs": [
        {
          "output_type": "stream",
          "name": "stdout",
          "text": [
            "              precision    recall  f1-score   support\n",
            "\n",
            "           0       0.98      0.98      0.98     17625\n",
            "           1       0.98      0.98      0.98     16033\n",
            "\n",
            "    accuracy                           0.98     33658\n",
            "   macro avg       0.98      0.98      0.98     33658\n",
            "weighted avg       0.98      0.98      0.98     33658\n",
            "\n"
          ]
        }
      ]
    },
    {
      "cell_type": "markdown",
      "metadata": {
        "id": "Kz-bGDOTtSXi"
      },
      "source": [
        "**Implementation Of Decision Tree Classifier**"
      ]
    },
    {
      "cell_type": "code",
      "metadata": {
        "id": "o29y7Y9rte4e"
      },
      "source": [
        "from sklearn.tree import DecisionTreeClassifier"
      ],
      "execution_count": 31,
      "outputs": []
    },
    {
      "cell_type": "code",
      "metadata": {
        "colab": {
          "base_uri": "https://localhost:8080/"
        },
        "id": "K1FHX4Dyt37n",
        "outputId": "26a653f9-f7c9-4697-ed38-578a4a4de90d"
      },
      "source": [
        "DT=DecisionTreeClassifier()\n",
        "DT.fit(xv_train,y_train)"
      ],
      "execution_count": 32,
      "outputs": [
        {
          "output_type": "execute_result",
          "data": {
            "text/plain": [
              "DecisionTreeClassifier()"
            ]
          },
          "metadata": {},
          "execution_count": 32
        }
      ]
    },
    {
      "cell_type": "code",
      "metadata": {
        "colab": {
          "base_uri": "https://localhost:8080/"
        },
        "id": "PRYo4m4EuIe-",
        "outputId": "eb91a404-b248-45ee-d933-39de7fb8dfea"
      },
      "source": [
        "DT.score(xv_test,y_test)"
      ],
      "execution_count": 33,
      "outputs": [
        {
          "output_type": "execute_result",
          "data": {
            "text/plain": [
              "0.9925723453562303"
            ]
          },
          "metadata": {},
          "execution_count": 33
        }
      ]
    },
    {
      "cell_type": "code",
      "metadata": {
        "id": "chFxYrvDuV-h"
      },
      "source": [
        "predict_DT=DT.predict(xv_test)"
      ],
      "execution_count": 36,
      "outputs": []
    },
    {
      "cell_type": "code",
      "metadata": {
        "colab": {
          "base_uri": "https://localhost:8080/"
        },
        "id": "bNH9GUSFvAA4",
        "outputId": "91051e1a-fcf2-419b-b924-8b6b30da7796"
      },
      "source": [
        "print(classification_report(y_test,predict_DT))"
      ],
      "execution_count": 35,
      "outputs": [
        {
          "output_type": "stream",
          "name": "stdout",
          "text": [
            "              precision    recall  f1-score   support\n",
            "\n",
            "           0       0.99      0.99      0.99     17625\n",
            "           1       0.99      0.99      0.99     16033\n",
            "\n",
            "    accuracy                           0.99     33658\n",
            "   macro avg       0.99      0.99      0.99     33658\n",
            "weighted avg       0.99      0.99      0.99     33658\n",
            "\n"
          ]
        }
      ]
    },
    {
      "cell_type": "markdown",
      "metadata": {
        "id": "sfEn2Y0E9M6X"
      },
      "source": [
        "**Implementation Of Random Forest Classifier**"
      ]
    },
    {
      "cell_type": "code",
      "metadata": {
        "id": "_AIEai9Q9Zqd"
      },
      "source": [
        "from sklearn.ensemble import RandomForestClassifier"
      ],
      "execution_count": 37,
      "outputs": []
    },
    {
      "cell_type": "code",
      "metadata": {
        "colab": {
          "base_uri": "https://localhost:8080/"
        },
        "id": "3XAUc_J99pby",
        "outputId": "700cf9e7-5301-49c1-abc7-c3103e89b07b"
      },
      "source": [
        "RFC=RandomForestClassifier(random_state=0)\n",
        "RFC.fit(xv_train,y_train)"
      ],
      "execution_count": 38,
      "outputs": [
        {
          "output_type": "execute_result",
          "data": {
            "text/plain": [
              "RandomForestClassifier(random_state=0)"
            ]
          },
          "metadata": {},
          "execution_count": 38
        }
      ]
    },
    {
      "cell_type": "code",
      "metadata": {
        "colab": {
          "base_uri": "https://localhost:8080/"
        },
        "id": "Z3qJ9ZALAhpH",
        "outputId": "a42cc80b-0bd4-40a2-eea2-74db63f5d90a"
      },
      "source": [
        "RFC.score(xv_test,y_test)"
      ],
      "execution_count": 39,
      "outputs": [
        {
          "output_type": "execute_result",
          "data": {
            "text/plain": [
              "0.9845801889595341"
            ]
          },
          "metadata": {},
          "execution_count": 39
        }
      ]
    },
    {
      "cell_type": "code",
      "metadata": {
        "id": "WN8ruLKyA1x_"
      },
      "source": [
        "predict_RFC=RFC.predict(xv_test)"
      ],
      "execution_count": 40,
      "outputs": []
    },
    {
      "cell_type": "code",
      "metadata": {
        "colab": {
          "base_uri": "https://localhost:8080/"
        },
        "id": "lxtHT2SQA8E5",
        "outputId": "5ad9968d-7b4b-4b3e-9007-b82b248c5572"
      },
      "source": [
        "print(classification_report(y_test,predict_RFC))"
      ],
      "execution_count": 41,
      "outputs": [
        {
          "output_type": "stream",
          "name": "stdout",
          "text": [
            "              precision    recall  f1-score   support\n",
            "\n",
            "           0       0.99      0.98      0.99     17625\n",
            "           1       0.98      0.98      0.98     16033\n",
            "\n",
            "    accuracy                           0.98     33658\n",
            "   macro avg       0.98      0.98      0.98     33658\n",
            "weighted avg       0.98      0.98      0.98     33658\n",
            "\n"
          ]
        }
      ]
    },
    {
      "cell_type": "markdown",
      "metadata": {
        "id": "t5Xoi6cnCfp_"
      },
      "source": [
        "**Manual Testing**"
      ]
    },
    {
      "cell_type": "code",
      "metadata": {
        "id": "gjpQcEUSCjA0"
      },
      "source": [
        "def output_lable(n):\n",
        "  if n == 0:\n",
        "    return \"Fake News\"\n",
        "  elif n == 1:\n",
        "    return \"Not A Fake News\"\n",
        "\n",
        "def manual_testing(news):\n",
        "    testing_news = {\"text\":[news]}\n",
        "    new_def_test = pd.DataFrame(testing_news)\n",
        "    new_def_test[\"text\"] = new_def_test[\"text\"].apply(word_drop) \n",
        "    new_x_test = new_def_test[\"text\"]\n",
        "    new_xv_test = vectorization.transform(new_x_test)\n",
        "    pred_LR = LR.predict(new_xv_test)\n",
        "    pred_DT = DT.predict(new_xv_test)\n",
        "    pred_RFC = RFC.predict(new_xv_test)\n",
        "\n",
        "    return print(\"\\n\\nLR Prediction: {} \\nDT Prediction: {} \\nRFC Prediction: {}\".format(output_lable(pred_LR[0]), \n",
        "                                                                                                              output_lable(pred_DT[0]),  \n",
        "                                                                                                              output_lable(pred_RFC[0])))"
      ],
      "execution_count": 55,
      "outputs": []
    },
    {
      "cell_type": "code",
      "metadata": {
        "colab": {
          "base_uri": "https://localhost:8080/"
        },
        "id": "klRILNnMEpnN",
        "outputId": "dc492611-324a-435b-cb50-7149faf597fd"
      },
      "source": [
        "news = str(input())\n",
        "manual_testing(news)"
      ],
      "execution_count": 57,
      "outputs": [
        {
          "output_type": "stream",
          "name": "stdout",
          "text": [
            "21413,LexisNexis withdrew two products from Chinese market,\"LONDON (Reuters) - LexisNexis, a provider of legal, regulatory and business information, said on Tuesday it had withdrawn two products from the Chinese market in March this year after it was asked to remove some content.  The issue of academic freedom in China hit the headlines this week after the leading British academic publisher,  Cambridge University Press, said it had complied with a request to block online access to some scholarly articles in China.  It later reversed its position.   Earlier this year LexisNexis Business Insight Solutions in China was asked to remove some content from its database,  LexisNexis said in a statement.  In March 2017, the company withdrew two products (Nexis and LexisNexis Academic) from the Chinese market.  LexisNexis is owned by information group Relx. \",worldnews,\"August 22, 2017 \"\n",
            "\n",
            "\n",
            "LR Prediction: Not A Fake News \n",
            "DT Prediction: Not A Fake News \n",
            "RFC Prediction: Not A Fake News\n"
          ]
        }
      ]
    }
  ]
}